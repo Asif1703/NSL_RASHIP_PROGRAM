{
 "cells": [
  {
   "cell_type": "code",
   "execution_count": 3,
   "metadata": {},
   "outputs": [
    {
     "name": "stdout",
     "output_type": "stream",
     "text": [
      "Kazi\n",
      "Kazi Dube\n"
     ]
    }
   ],
   "source": [
    "class Person:\n",
    "    def __init__(self):\n",
    "        self.name='Kazi'\n",
    "        self.__lastname=\"Dube\"\n",
    "    def PrintName(self):\n",
    "        return self.name+' '+self.__lastname\n",
    "#Outside class\n",
    "P=Person()\n",
    "\n",
    "print(P.name)\n",
    "print(P.PrintName())\n",
    "#print(P.__lastname)  ## this line command is not executable"
   ]
  },
  {
   "cell_type": "code",
   "execution_count": 10,
   "metadata": {},
   "outputs": [
    {
     "name": "stdout",
     "output_type": "stream",
     "text": [
      "you can see me\n",
      "you cannot see me\n"
     ]
    }
   ],
   "source": [
    "class SeeMee:\n",
    "    def youcanseeme(self):\n",
    "         return 'you can see me'\n",
    "    \n",
    "    def __youcannotseeme(self):\n",
    "         return 'you cannot see me'\n",
    "    \n",
    "#Outside class    \n",
    "Check = SeeMee()\n",
    "print(Check.youcanseeme())\n",
    "print(Check._SeeMee__youcannotseeme()) \n"
   ]
  },
  {
   "cell_type": "code",
   "execution_count": null,
   "metadata": {},
   "outputs": [],
   "source": []
  }
 ],
 "metadata": {
  "kernelspec": {
   "display_name": "Python 3",
   "language": "python",
   "name": "python3"
  },
  "language_info": {
   "codemirror_mode": {
    "name": "ipython",
    "version": 3
   },
   "file_extension": ".py",
   "mimetype": "text/x-python",
   "name": "python",
   "nbconvert_exporter": "python",
   "pygments_lexer": "ipython3",
   "version": "3.7.6"
  }
 },
 "nbformat": 4,
 "nbformat_minor": 4
}
