{
 "cells": [
  {
   "cell_type": "code",
   "execution_count": 1,
   "metadata": {},
   "outputs": [
    {
     "name": "stdout",
     "output_type": "stream",
     "text": [
      "[4, 5, 2, 5, 25, 4324, 5]\n"
     ]
    }
   ],
   "source": [
    "squares=[1,2,3,4,5,2,5,25,4324,5,3,43]\n",
    "print(squares[3:-2])"
   ]
  },
  {
   "cell_type": "code",
   "execution_count": 2,
   "metadata": {},
   "outputs": [
    {
     "name": "stdout",
     "output_type": "stream",
     "text": [
      "[8, 7, 6, 5, 4, 3]\n"
     ]
    }
   ],
   "source": [
    "values=[3,4,5,6,7,8]\n",
    "print(values[::-1])"
   ]
  },
  {
   "cell_type": "code",
   "execution_count": 3,
   "metadata": {},
   "outputs": [
    {
     "name": "stdout",
     "output_type": "stream",
     "text": [
      "1\n"
     ]
    }
   ],
   "source": [
    "print(min([1,2,3,4,532,234234,124124124124241]))"
   ]
  },
  {
   "cell_type": "code",
   "execution_count": 4,
   "metadata": {},
   "outputs": [
    {
     "name": "stdout",
     "output_type": "stream",
     "text": [
      "32423423.43\n"
     ]
    }
   ],
   "source": [
    "print(max([12.23,2313,24234,234,32423423.43]))"
   ]
  },
  {
   "cell_type": "markdown",
   "metadata": {},
   "source": [
    "# List & Dictionary Comprehension"
   ]
  },
  {
   "cell_type": "code",
   "execution_count": 5,
   "metadata": {},
   "outputs": [],
   "source": [
    "num_list=[1,2,3,4,5,4534,213]"
   ]
  },
  {
   "cell_type": "code",
   "execution_count": 7,
   "metadata": {},
   "outputs": [
    {
     "name": "stdout",
     "output_type": "stream",
     "text": [
      "[2, 4, 4534]\n"
     ]
    }
   ],
   "source": [
    "#with out list comprhension\n",
    "\n",
    "new_list=[]\n",
    "for num in num_list:\n",
    "    if num % 2==0:\n",
    "        new_list.append(num)\n",
    "        \n",
    "print(new_list) "
   ]
  },
  {
   "cell_type": "code",
   "execution_count": 8,
   "metadata": {},
   "outputs": [
    {
     "name": "stdout",
     "output_type": "stream",
     "text": [
      "[2, 4, 4534]\n"
     ]
    }
   ],
   "source": [
    "#with list comprehension\n",
    "\n",
    "new_list=[even_num for even_num in num_list if even_num % 2==0 ]\n",
    "print(new_list)"
   ]
  },
  {
   "cell_type": "markdown",
   "metadata": {},
   "source": [
    "# Nested loop comprehension"
   ]
  },
  {
   "cell_type": "code",
   "execution_count": 9,
   "metadata": {},
   "outputs": [
    {
     "name": "stdout",
     "output_type": "stream",
     "text": [
      "[1, 2, 3, 4, 5, 6]\n"
     ]
    }
   ],
   "source": [
    "matrix_1d=[]\n",
    "matrix_2d=[[1,2,3],[4,5,6]]\n",
    "\n",
    "for row  in matrix_2d:\n",
    "    for num in row:\n",
    "        matrix_1d.append(num)\n",
    "print(matrix_1d)        "
   ]
  },
  {
   "cell_type": "code",
   "execution_count": 11,
   "metadata": {},
   "outputs": [
    {
     "name": "stdout",
     "output_type": "stream",
     "text": [
      "[1, 2, 3, 4, 5, 6]\n"
     ]
    }
   ],
   "source": [
    "matrix_2d=[[1,2,3],[4,5,6]]\n",
    "matrix_1d=[num for row in matrix_2d for num in row]\n",
    "print(matrix_1d)"
   ]
  },
  {
   "cell_type": "code",
   "execution_count": 12,
   "metadata": {},
   "outputs": [
    {
     "name": "stdout",
     "output_type": "stream",
     "text": [
      "[1, 16, 81, 256, 625, 1296]\n"
     ]
    }
   ],
   "source": [
    "matrix_1d=[num**4 for row in matrix_2d for num in row]\n",
    "print(matrix_1d)"
   ]
  },
  {
   "cell_type": "markdown",
   "metadata": {},
   "source": [
    "# Removing vowels from sentence"
   ]
  },
  {
   "cell_type": "code",
   "execution_count": 14,
   "metadata": {},
   "outputs": [
    {
     "name": "stdout",
     "output_type": "stream",
     "text": [
      " hv  wsm cr.\n"
     ]
    }
   ],
   "source": [
    "vowels=\"aeiou\"\n",
    "sentence=\"i have a awesome car.\"\n",
    "\n",
    "filtered_letters=[]\n",
    "\n",
    "for letter in sentence:\n",
    "    if letter not in vowels:\n",
    "        filtered_letters.append(letter)\n",
    "print(''.join(filtered_letters))        "
   ]
  },
  {
   "cell_type": "markdown",
   "metadata": {},
   "source": [
    "# Dictionary Comprehensions "
   ]
  },
  {
   "cell_type": "code",
   "execution_count": 2,
   "metadata": {},
   "outputs": [
    {
     "name": "stdout",
     "output_type": "stream",
     "text": [
      "{1: 'Mango', 2: 'Pineapple', 3: 'Watermelon'}\n"
     ]
    }
   ],
   "source": [
    "fruit_ranking = [1, 2, 3]\n",
    "fruit_name = ['Mango', 'Pineapple', 'Watermelon']\n",
    "\n",
    "fruit_rank_dict = {}\n",
    "\n",
    "for i in range(len(fruit_ranking)):\n",
    "    fruit_rank_dict[fruit_ranking[i]] = fruit_name[i]\n",
    "\n",
    "print(fruit_rank_dict)"
   ]
  },
  {
   "cell_type": "code",
   "execution_count": 4,
   "metadata": {},
   "outputs": [
    {
     "name": "stdout",
     "output_type": "stream",
     "text": [
      "{1: 'Mango', 2: 'Pineapple', 3: 'Watermelon'}\n"
     ]
    }
   ],
   "source": [
    "fruit_ranking = [1, 2, 3]\n",
    "\n",
    "fruit = ['Mango', 'Pineapple', 'Watermelon']\n",
    "\n",
    "fruit_ranking_dict = { fruit_ranking[i] : fruit[i] for i in range(len(fruit_ranking)) }\n",
    "\n",
    "print(fruit_ranking_dict)"
   ]
  },
  {
   "cell_type": "code",
   "execution_count": null,
   "metadata": {},
   "outputs": [],
   "source": []
  }
 ],
 "metadata": {
  "kernelspec": {
   "display_name": "Python 3",
   "language": "python",
   "name": "python3"
  },
  "language_info": {
   "codemirror_mode": {
    "name": "ipython",
    "version": 3
   },
   "file_extension": ".py",
   "mimetype": "text/x-python",
   "name": "python",
   "nbconvert_exporter": "python",
   "pygments_lexer": "ipython3",
   "version": "3.7.6"
  }
 },
 "nbformat": 4,
 "nbformat_minor": 4
}
