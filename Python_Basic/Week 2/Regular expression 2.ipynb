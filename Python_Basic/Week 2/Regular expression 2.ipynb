{
 "cells": [
  {
   "cell_type": "markdown",
   "metadata": {},
   "source": [
    "# Character class"
   ]
  },
  {
   "cell_type": "code",
   "execution_count": 7,
   "metadata": {},
   "outputs": [
    {
     "name": "stdout",
     "output_type": "stream",
     "text": [
      "found a vowel\n",
      "No vowel found!\n"
     ]
    }
   ],
   "source": [
    "import re\n",
    "# define a character class as a list\n",
    "pattern=r\"[aeiou]\"\n",
    "\n",
    "# cheking a vowel in a string\n",
    "\n",
    "if re.search(pattern,\"cried\"):\n",
    "      \n",
    "        print(\"found a vowel\")\n",
    "else:\n",
    "        print(\"did not foind any vowel\")\n",
    "        \n",
    "if re.search(pattern, \"rhythm myths\"):\n",
    "         \n",
    "        print(\"found a vowel\")\n",
    "else:\n",
    "         print(\"No vowel found!\")        \n",
    "    \n"
   ]
  },
  {
   "cell_type": "code",
   "execution_count": 17,
   "metadata": {},
   "outputs": [
    {
     "name": "stdout",
     "output_type": "stream",
     "text": [
      "OK\n",
      "OK\n",
      "Not OK!\n",
      "OK\n"
     ]
    }
   ],
   "source": [
    "import re\n",
    "\n",
    "pattern = r\"[A-Z][A-Z][0-9]\"\n",
    "\n",
    "if re.search(pattern, \"NSSS1 is prefix of first name server address.\"):\n",
    "     \n",
    "        print(\"OK\")\n",
    "else: \n",
    "        print(\"Not OK\")\n",
    "\n",
    "if re.search(pattern, \"You should put a second one with NS2 as prefix.\"):\n",
    "   \n",
    "       \n",
    "        print(\"OK\")\n",
    "else: \n",
    "        print(\"Not OK\")       \n",
    "\n",
    "if re.search(pattern, \"I don\\'t have any nameserver.\"):\n",
    "            \n",
    "        print(\"NS3\")\n",
    "else:\n",
    "        \n",
    "        print(\"Not OK!\")\n",
    "\n",
    "if re.search(pattern, \"PYY3K\"):\n",
    "   \n",
    "        print(\"OK\")\n",
    "else:\n",
    "        print(\"Not OK!\")"
   ]
  },
  {
   "cell_type": "code",
   "execution_count": 2,
   "metadata": {},
   "outputs": [
    {
     "name": "stdout",
     "output_type": "stream",
     "text": [
      "Match 1\n",
      "Match 4\n"
     ]
    }
   ],
   "source": [
    "import re\n",
    "\n",
    "pattern = r\"[^A-Z]\"  # Match string that contains NOT ALL Capital letters\n",
    "\n",
    "if re.search(pattern, \"a sentence with all lower case letters.\"):\n",
    "   \n",
    "            print(\"Match 1\")\n",
    "\n",
    "if re.search(pattern, \"HEADING\"):   # All Capital letters   \n",
    "   \n",
    "             print(\"Match 3\")\n",
    "\n",
    "if re.search(pattern, \"HEADING WITH ALL CAPITAL LETTERS\"):  #All Capital letters \n",
    "   \n",
    "             print(\"Match 4\")  # but \"spaces\" makes it True to NOT ALL Capital"
   ]
  },
  {
   "cell_type": "markdown",
   "metadata": {},
   "source": [
    "# Group"
   ]
  },
  {
   "cell_type": "code",
   "execution_count": 11,
   "metadata": {},
   "outputs": [
    {
     "name": "stdout",
     "output_type": "stream",
     "text": [
      "match 1\n",
      "match 2\n",
      "match 3\n",
      "match 4\n"
     ]
    }
   ],
   "source": [
    "import re\n",
    "\n",
    "pattern=r\"egg(spam)*\"\n",
    "\n",
    "# spam can be after egg or not egg must start with a sentence\n",
    "\n",
    "if re.match(pattern,\"egg\"):\n",
    "    \n",
    "    print(\"match 1\")\n",
    "    \n",
    "if re.match(pattern,\"eggspamspamspamegg\"):\n",
    "    \n",
    "    print(\"match 2\")\n",
    "    \n",
    "if re.match(pattern,\"eggspamegg\"):\n",
    "    \n",
    "    print(\"match 3\")\n",
    "if re.match(pattern,\"eggspam\"):\n",
    "    print(\"match 4\")\n",
    "if re.match(pattern,\"spam\"):\n",
    "    print(\"match 5\")\n",
    "if re.match(pattern,\"spamegg\"):\n",
    "    print(\"match 5\")    "
   ]
  },
  {
   "cell_type": "code",
   "execution_count": 12,
   "metadata": {},
   "outputs": [
    {
     "name": "stdout",
     "output_type": "stream",
     "text": [
      "abcdefghi\n",
      "abcdefghi\n",
      "bc\n",
      "de\n",
      "fgh\n",
      "('bc', 'de', 'fgh', 'g')\n"
     ]
    }
   ],
   "source": [
    "import re\n",
    "\n",
    "pattern = r\"a(bc)(de)(f(g)h)i\"\n",
    "\n",
    "match = re.match(pattern, \"abcdefghijklmnop\")\n",
    "\n",
    "if match:\n",
    "    \n",
    "    print(match.group())\n",
    "    print(match.group(0))\n",
    "    print(match.group(1))\n",
    "    print(match.group(2))\n",
    "    print(match.group(3))\n",
    "    print(match.groups())"
   ]
  },
  {
   "cell_type": "code",
   "execution_count": 17,
   "metadata": {},
   "outputs": [
    {
     "name": "stdout",
     "output_type": "stream",
     "text": [
      "Gray is fine!\n",
      "Grey is OK also!\n"
     ]
    }
   ],
   "source": [
    "import re\n",
    "\n",
    "pattern = r\"gr(a|e)y\"\n",
    "\n",
    "match = re.match(pattern, \"gray\")\n",
    "if match:\n",
    "    print (\"Gray is fine!\")\n",
    "\n",
    "match = re.match(pattern, \"grey\")\n",
    "\n",
    "if match:\n",
    "    print (\"Grey is OK also!\")   \n",
    "    \n",
    "if (re.match(pattern,\"gley\")):\n",
    "    print(\"gley is a wrong word\")\n",
    "\n",
    "match = re.match(pattern, \"griy\")\n",
    "if match:\n",
    "    print (\"No way, what Griy is?!!\")"
   ]
  },
  {
   "cell_type": "code",
   "execution_count": 29,
   "metadata": {},
   "outputs": [
    {
     "name": "stdout",
     "output_type": "stream",
     "text": [
      "abc\n",
      "('abc', 'ghi')\n"
     ]
    }
   ],
   "source": [
    "import re\n",
    "\n",
    "# first named group format (?P<name>....)\n",
    "#<name> defines group name\n",
    "# ... define contents\n",
    "\n",
    "#for non capturiing format describe it with (?:.....)\n",
    "\n",
    "pattern = r\"(?P<first>abc)(?:def)(ghi)\"\n",
    "#have to understand later\n",
    "catch= re.match(pattern, \"abcdefghii\")\n",
    "if catch:\n",
    "    print(catch.group(\"first\"))\n",
    "    print(catch.groups())"
   ]
  },
  {
   "cell_type": "code",
   "execution_count": null,
   "metadata": {},
   "outputs": [],
   "source": []
  }
 ],
 "metadata": {
  "kernelspec": {
   "display_name": "Python 3",
   "language": "python",
   "name": "python3"
  },
  "language_info": {
   "codemirror_mode": {
    "name": "ipython",
    "version": 3
   },
   "file_extension": ".py",
   "mimetype": "text/x-python",
   "name": "python",
   "nbconvert_exporter": "python",
   "pygments_lexer": "ipython3",
   "version": "3.7.6"
  }
 },
 "nbformat": 4,
 "nbformat_minor": 4
}
