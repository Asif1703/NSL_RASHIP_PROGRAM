{
 "cells": [
  {
   "cell_type": "markdown",
   "metadata": {},
   "source": [
    "Whats this?\n",
    "\n",
    "Ans:রেগুলার এক্সপ্রেশনের মাধ্যমে প্রধানত দুই ধরণের কাজ করা হয়। প্রথমত কোন স্ট্রিং এর মধ্যে নির্দিষ্ট প্যাটার্ন খোঁজার জন্য এবং দ্বিতীয়ত, ম্যাচ পাওয়া গেলে কোন নির্দিষ্ট কাজ করার জন্য যেমন সেখানে স্ট্রিং রিপ্লেস করা।\n"
   ]
  },
  {
   "cell_type": "code",
   "execution_count": 6,
   "metadata": {},
   "outputs": [
    {
     "name": "stdout",
     "output_type": "stream",
     "text": [
      "<re.Match object; span=(0, 6), match='Bangla'>\n",
      "Match Found\n"
     ]
    }
   ],
   "source": [
    "import re # importing regular expression module\n",
    "\n",
    "#storing the  raw string\n",
    "pattern= r\"Bangla\"  # r defines raw string and r\"expression\" is the basic methods\n",
    "\n",
    "# calling re's match function for checking the match in the string which has two inputs\n",
    "\n",
    "result=re.match(pattern,\"Bangladesh\") # (\"bangla\",\"bangaladesh\")\n",
    "print(result)\n",
    "if result:  #we found a an and object and checking it \n",
    "    print(\"Match Found\")\n",
    "else:\n",
    "    print(\"No match\")"
   ]
  },
  {
   "cell_type": "code",
   "execution_count": 10,
   "metadata": {},
   "outputs": [
    {
     "name": "stdout",
     "output_type": "stream",
     "text": [
      "Match found!\n",
      "['bangla', 'bangla']\n"
     ]
    }
   ],
   "source": [
    "# another example of match function\n",
    "import re\n",
    "\n",
    "pattern=r\"Bangladesh\"\n",
    "\n",
    "if re.search(pattern,\"I live in Bangladesh\"):\n",
    "    \n",
    "    print(\"Match found!\")\n",
    "else:\n",
    "    print(\"No Match\")\n",
    "pattern=r\"bangla\"  \n",
    "# findnindll pattersn and put them in list\n",
    "print(re.findall(pattern,\"Bangladeshi bangla and indian bangla are different\"))"
   ]
  },
  {
   "cell_type": "code",
   "execution_count": 13,
   "metadata": {},
   "outputs": [
    {
     "name": "stdout",
     "output_type": "stream",
     "text": [
      "bin\n",
      "3\n",
      "6\n",
      "(3, 6)\n"
     ]
    }
   ],
   "source": [
    "import re \n",
    "pattern=r\"bin\"\n",
    "match =re.search(pattern,\"combination\")\n",
    "\n",
    "#finding match on diffirent and defining its postions in string\n",
    "if match:\n",
    "    print(match.group())\n",
    "    print(match.start())\n",
    "    print(match.end())\n",
    "    print(match.span())\n",
    "else:\n",
    "    print(\"No match\")"
   ]
  },
  {
   "cell_type": "markdown",
   "metadata": {},
   "source": [
    "# Meta Character"
   ]
  },
  {
   "cell_type": "code",
   "execution_count": 21,
   "metadata": {},
   "outputs": [
    {
     "name": "stdout",
     "output_type": "stream",
     "text": [
      "Match 1\n",
      "Match 2\n",
      "Match 3\n",
      "\n",
      "\n",
      "Match 1\n",
      "Match 2\n"
     ]
    }
   ],
   "source": [
    "import re\n",
    "\n",
    "pattern=r\"g..y\"\n",
    "\n",
    "if re.match(pattern,\"grey\"):\n",
    "    print(\"Match 1\")\n",
    "if re.match(pattern,\"gray\"):\n",
    "    print(\"Match 2\")\n",
    "if re.match(pattern,\"goly\"):\n",
    "    print(\"Match 3\")    \n",
    "pattern=r\"gr.y\"\n",
    "print(\"\\n\")\n",
    "if re.match(pattern,\"grey\"):\n",
    "    print(\"Match 1\")\n",
    "if re.match(pattern,\"gray\"):\n",
    "    print(\"Match 2\")\n",
    "if re.match(pattern,\"goly\"):\n",
    "    print(\"Match 3\")        "
   ]
  },
  {
   "cell_type": "code",
   "execution_count": 25,
   "metadata": {},
   "outputs": [
    {
     "name": "stdout",
     "output_type": "stream",
     "text": [
      "Match 1\n",
      "Match 2\n",
      "Match 3\n"
     ]
    }
   ],
   "source": [
    "import re\n",
    "\n",
    "pattern = r\"^wr.te$\"\n",
    "\n",
    "if re.match(pattern,\"write\"):\n",
    "    print(\"Match 1\")\n",
    "if re.match(pattern,\"wrote\"):\n",
    "    print(\"Match 2\")\n",
    "if re.match(pattern,\"wrwte\"):\n",
    "    print(\"Match 3\")\n"
   ]
  },
  {
   "cell_type": "markdown",
   "metadata": {},
   "source": [
    "উপরের প্রোগ্রামে r\"^wr.te$\" এর মাধ্যমে একটি স্ট্রিং যার শুরু এবং শেষ নির্দিষ্ট অর্থাৎ যথাক্রমে w এবং e কিন্তু wr এর পর যেকোনো ক্যারেক্টার থাকতে পারে এবং সেটির পর আবার te থাকতে হবে। তাই write এবং wrote ম্যাচ করেছে।"
   ]
  },
  {
   "cell_type": "code",
   "execution_count": null,
   "metadata": {},
   "outputs": [],
   "source": []
  }
 ],
 "metadata": {
  "kernelspec": {
   "display_name": "Python 3",
   "language": "python",
   "name": "python3"
  },
  "language_info": {
   "codemirror_mode": {
    "name": "ipython",
    "version": 3
   },
   "file_extension": ".py",
   "mimetype": "text/x-python",
   "name": "python",
   "nbconvert_exporter": "python",
   "pygments_lexer": "ipython3",
   "version": "3.7.6"
  }
 },
 "nbformat": 4,
 "nbformat_minor": 4
}
