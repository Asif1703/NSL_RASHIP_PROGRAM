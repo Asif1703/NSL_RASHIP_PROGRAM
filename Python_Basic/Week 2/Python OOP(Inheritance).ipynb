{
 "cells": [
  {
   "cell_type": "markdown",
   "metadata": {},
   "source": [
    "# Inheritance|"
   ]
  },
  {
   "cell_type": "markdown",
   "metadata": {},
   "source": [
    "inheritance এর একটা বাংলা অর্থ হচ্ছে উত্তরাধিকার সূত্রে কিছু পাওয়া। পাইথনে ক্লাস গুলোর মধ্যে কিছু ফাংশনালিটি ও বৈশিষ্ট্য শেয়ার করার একটা পদ্ধতি হচ্ছে ইনহেরিট্যান্স। অর্থাৎ, একটা ক্লাসকে ইনহেরিট (অনুসরণ) করে তার কিছু বৈশিষ্ট্য আরেকটি উত্তরসূরি ক্লাসের মধ্যে নিয়ে আসার ব্যাপারটিকেই ইনহেরিট্যান্স বলা হয়।"
   ]
  },
  {
   "cell_type": "code",
   "execution_count": 13,
   "metadata": {},
   "outputs": [
    {
     "name": "stdout",
     "output_type": "stream",
     "text": [
      "Fogthing\n",
      "Yellow\n",
      "AtttttacccKKKKK\n",
      "Grrrrrrrrrrrrrr\n",
      "\n",
      "Mournsnake\n",
      "Green\n",
      "AtttttacccKKKKK\n",
      "Hiiisssssssssssssss\n",
      "\n"
     ]
    }
   ],
   "source": [
    "class Monster:\n",
    "     \n",
    "        def __init__(self,name,color):\n",
    "            self.name=name\n",
    "            self.color=color\n",
    "        def  attack(self):\n",
    "            print(\"AtttttacccKKKKK\")\n",
    "\n",
    "class  Fogthing(Monster):\n",
    "        def make_sound(self):\n",
    "            print('Grrrrrrrrrrrrrr\\n')\n",
    "class  Mournsnake(Monster):\n",
    "        def make_sound(self):\n",
    "            print('Hiiisssssssssssssss\\n')\n",
    "\n",
    "\n",
    "fogthing = Fogthing(\"Fogthing\",\"Yellow\")\n",
    "print(str(fogthing.name))\n",
    "print(str(fogthing.color))\n",
    "fogthing.attack()\n",
    "fogthing.make_sound()\n",
    "\n",
    "\n",
    "mournsnake=Mournsnake(\"Mournsnake\",\"Green\")\n",
    "print(str(mournsnake.name))\n",
    "print(str(mournsnake.color))\n",
    "mournsnake.attack()\n",
    "mournsnake.make_sound()\n",
    "\n"
   ]
  },
  {
   "cell_type": "markdown",
   "metadata": {},
   "source": [
    "কোন ক্লাসকে ইনহেরিট করার জন্য ওই ক্লাসের নামটি নতুন ক্লাসের নামের পর ব্র্যাকেটের মধ্যে লিখতে হয়। এখানে Monster হচ্ছে সুপারক্লাস আর Fogthing, Mournsnake হচ্ছে সাবক্লাস"
   ]
  },
  {
   "cell_type": "markdown",
   "metadata": {},
   "source": [
    "# OVerrirde"
   ]
  },
  {
   "cell_type": "code",
   "execution_count": 15,
   "metadata": {},
   "outputs": [
    {
     "name": "stdout",
     "output_type": "stream",
     "text": [
      "Fogthing\n",
      "Yelllow\n",
      "fogthing is attaccking\n",
      "Grrrrrrrrrrrrrrrrrr\n",
      "\n"
     ]
    }
   ],
   "source": [
    "class Monster:\n",
    "    def __init__(self,name,color):\n",
    "        self.name=name\n",
    "        self.color=color\n",
    "    def attack(self):\n",
    "        print(\"Fast atttaccckkkkk\")\n",
    "class Fogthing(Monster):\n",
    "     def attack(self):\n",
    "            \n",
    "        print(\"fogthing is attaccking\")\n",
    "     \n",
    "     def make_sound(self):\n",
    "\n",
    "        print(\"Grrrrrrrrrrrrrrrrrr\\n\")\n",
    "fog_thing=Fogthing(\"Fogthing\",\"Yelllow\")\n",
    "print(str(fog_thing.name))\n",
    "print(str(fog_thing.color))\n",
    "fog_thing.attack()\n",
    "fog_thing.make_sound()"
   ]
  },
  {
   "cell_type": "markdown",
   "metadata": {},
   "source": [
    "উপরের উদাহরণে, Fogthing ক্লাস মুল Monster ক্লাসের attack মেথডকে অভাররাইড করেছে।"
   ]
  },
  {
   "cell_type": "markdown",
   "metadata": {},
   "source": [
    "# Multple Inheritances"
   ]
  },
  {
   "cell_type": "code",
   "execution_count": 24,
   "metadata": {},
   "outputs": [
    {
     "name": "stdout",
     "output_type": "stream",
     "text": [
      "[<class '__main__.C'>, <class '__main__.A'>, <class '__main__.B'>, <class 'object'>]\n",
      "i am from class A\n",
      "i am from class B\n"
     ]
    }
   ],
   "source": [
    "class A:\n",
    "     \n",
    "        def where(self):\n",
    "            print(\"i am from class A\")\n",
    "\n",
    "class B:\n",
    "     \n",
    "        def here(self):\n",
    "            print(\"i am from class B\")\n",
    "\n",
    "            \n",
    "class C(A,B):\n",
    "    pass\n",
    "\n",
    "instance_c=C()\n",
    "print((C.mro()))\n",
    "instance_c.where()\n",
    "instance_c.here()\n",
    "        "
   ]
  },
  {
   "cell_type": "markdown",
   "metadata": {},
   "source": [
    "# Use of Super Method"
   ]
  },
  {
   "cell_type": "code",
   "execution_count": 1,
   "metadata": {},
   "outputs": [
    {
     "name": "stdout",
     "output_type": "stream",
     "text": [
      "2\n",
      "1\n"
     ]
    }
   ],
   "source": [
    "class A:\n",
    "    \n",
    "        def spam(self):\n",
    "            print(1)\n",
    "        \n",
    "class B(A):\n",
    "        \n",
    "        def spam(self):\n",
    "            print(2)\n",
    "            super().spam()\n",
    "            \n",
    "B().spam()        \n",
    "        \n",
    "        "
   ]
  },
  {
   "cell_type": "markdown",
   "metadata": {},
   "source": [
    "super মেথড\n",
    "ইনহেরিট্যান্স এর ক্ষেত্রে super একটি গুরুত্বপূর্ণ মেথড। এর মাধ্যমে একটি অবজেক্টের সুপার ক্লাসের মধ্যেকার মেথডকে কল করা যায়। যেমন,"
   ]
  },
  {
   "cell_type": "code",
   "execution_count": null,
   "metadata": {},
   "outputs": [],
   "source": []
  }
 ],
 "metadata": {
  "kernelspec": {
   "display_name": "Python 3",
   "language": "python",
   "name": "python3"
  },
  "language_info": {
   "codemirror_mode": {
    "name": "ipython",
    "version": 3
   },
   "file_extension": ".py",
   "mimetype": "text/x-python",
   "name": "python",
   "nbconvert_exporter": "python",
   "pygments_lexer": "ipython3",
   "version": "3.7.6"
  }
 },
 "nbformat": 4,
 "nbformat_minor": 4
}
