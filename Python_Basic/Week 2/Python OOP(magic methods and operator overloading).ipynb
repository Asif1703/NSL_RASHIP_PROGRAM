{
 "cells": [
  {
   "cell_type": "markdown",
   "metadata": {},
   "source": [
    "মেথড গুলোকে ভাষায় প্রকাশ করার সময় একটু জটিলতা হয়। যেমন, \"আন্ডারস্কোর আন্ডারস্কোর ইনিট আন্ডারস্কোর আন্ডারস্কোর\" এভাবে বললে অদ্ভুত শোনায়। তাই এদেরকে সুন্দর ভাবে \"dunders\" তথা \"ডাণ্ডার ইনিট\" এভাবে বলা হয়ে থাকে।"
   ]
  },
  {
   "cell_type": "raw",
   "metadata": {},
   "source": [
    "যদি আমাদের এমন একটি এক্সপ্রেশন থাকে x+y এবং x বস্তুত K ক্লাসের ইন্সট্যান্স হয়। তখন পাইথন K ক্লাসের ডেফিনেশন চেক করবে। যদি K ক্লাসের একটি মেথড থাকে __add__ তাহলে সেটাকে কল করা হবে এভাবেঃ x.__add__(y)\n",
    "কিছু কমন অপারেটরের ম্যাজিক মেথডঃ\n",
    "__sub__ হচ্ছে - জন্য\n",
    "__mul__ হচ্ছে * জন্য\n",
    "__truediv__ হচ্ছে / জন্য\n",
    "__floordiv__ হচ্ছে // জন্য\n",
    "__mod__ হচ্ছে % জন্য\n",
    "__pow__ হচ্ছে ** জন্য\n",
    "__and__ হচ্ছে & জন্য\n",
    "__xor__ হচ্ছে ^ জন্য\n",
    "__or__ হচ্ছে | জন্য\n",
    "তুলনা করার অপারেটর গুলোর জন্যও পাইথনে ম্যাজিক মেথড আছেঃ\n",
    "__lt__ হচ্ছে < জন্য\n",
    "__le__ হচ্ছে <= জন্য\n",
    "__eq__ হচ্ছে == জন্য\n",
    "__ne__ হচ্ছে != জন্য\n",
    "__gt__ হচ্ছে > জন্য\n",
    "__ge__ হচ্ছে >= জন্য\n",
    "এছাড়াও আরও অনেক ম্যাজিক মেথড আছে পাইথনে যেমন - __len__ __getitem__ __setitem__ __delitem__ __iter__ __contains__ ইত্যাদি"
   ]
  },
  {
   "cell_type": "markdown",
   "metadata": {},
   "source": [
    "# Example"
   ]
  },
  {
   "cell_type": "code",
   "execution_count": 7,
   "metadata": {},
   "outputs": [
    {
     "name": "stdout",
     "output_type": "stream",
     "text": [
      "10\n",
      "10\n"
     ]
    }
   ],
   "source": [
    "class MyNum():\n",
    "      def __init__(self,value):\n",
    "            \n",
    "            self.value=value\n",
    "      \n",
    "      def __add__(self,other):\n",
    "           \n",
    "           return (self.value*2 + other.value * 2)\n",
    "\n",
    "a=MyNum(2)\n",
    "b=MyNum(3)\n",
    "\n",
    "c=a.__add__(b)\n",
    "d=a+b\n",
    "\n",
    "print(c)\n",
    "print(d)"
   ]
  },
  {
   "cell_type": "markdown",
   "metadata": {},
   "source": [
    "# Another example"
   ]
  },
  {
   "cell_type": "code",
   "execution_count": 12,
   "metadata": {},
   "outputs": [
    {
     "name": "stdout",
     "output_type": "stream",
     "text": [
      "11\n"
     ]
    }
   ],
   "source": [
    "#not so clear\n",
    "\n",
    "class MyInt():\n",
    "    def __init__(self,value):\n",
    "        self.__value=value\n",
    "    def __int__(self):\n",
    "        return self.__value\n",
    "    def __add__(self,other):\n",
    "        return self.__value+int(other)*int(other)\n",
    "\n",
    "a = MyInt(2)\n",
    "b = MyInt(3)\n",
    "\n",
    "c = a.__add__(b) #c=a+b\n",
    "print(c)    "
   ]
  },
  {
   "cell_type": "code",
   "execution_count": 13,
   "metadata": {},
   "outputs": [
    {
     "name": "stdout",
     "output_type": "stream",
     "text": [
      "11\n"
     ]
    }
   ],
   "source": [
    "class MyInt():\n",
    "    def __init__(self, value):\n",
    "        self.__value = value\n",
    "\n",
    "    def __int__(self):\n",
    "        return self.__value\n",
    "\n",
    "\n",
    "    def __iadd__(self, other):\n",
    "        return self.__value + int(other) * int(other)\n",
    "\n",
    "\n",
    "a = MyInt(2)\n",
    "\n",
    "a += MyInt(3)\n",
    "\n",
    "print(a)"
   ]
  },
  {
   "cell_type": "code",
   "execution_count": null,
   "metadata": {},
   "outputs": [],
   "source": []
  }
 ],
 "metadata": {
  "kernelspec": {
   "display_name": "Python 3",
   "language": "python",
   "name": "python3"
  },
  "language_info": {
   "codemirror_mode": {
    "name": "ipython",
    "version": 3
   },
   "file_extension": ".py",
   "mimetype": "text/x-python",
   "name": "python",
   "nbconvert_exporter": "python",
   "pygments_lexer": "ipython3",
   "version": "3.7.6"
  }
 },
 "nbformat": 4,
 "nbformat_minor": 4
}
