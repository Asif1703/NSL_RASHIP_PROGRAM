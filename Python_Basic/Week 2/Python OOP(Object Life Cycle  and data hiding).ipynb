{
 "cells": [
  {
   "cell_type": "code",
   "execution_count": 3,
   "metadata": {},
   "outputs": [
    {
     "data": {
      "text/plain": [
       "9"
      ]
     },
     "execution_count": 3,
     "metadata": {},
     "output_type": "execute_result"
    }
   ],
   "source": [
    "# class creation\n",
    "class Add:\n",
    "         # initializtion of the Class\n",
    "            def __init__(self,a,b):\n",
    "                self.a=a\n",
    "                self.b=b\n",
    "            def add(self):\n",
    "                return self.a+self.b\n",
    "New_Obj=Add(4,5)\n",
    "New_Obj.add()"
   ]
  },
  {
   "cell_type": "code",
   "execution_count": 8,
   "metadata": {},
   "outputs": [
    {
     "name": "stdout",
     "output_type": "stream",
     "text": [
      "42\n",
      "100\n"
     ]
    }
   ],
   "source": [
    "#create A object <42>\n",
    "A=42 \n",
    "print(A)\n",
    "B=A # inrecase of A's reference Count\n",
    "c=[A] # A is now a element of C list so again increase in A's reference Count\n",
    "del A # decrease of refrence count of <42>\n",
    "B=100 # Now b inditcates not A a new value so again decrease in refernce count of <42>\n",
    "c[0]=-1 # again  decreasing refrence count of A again\n",
    "print(B)"
   ]
  },
  {
   "cell_type": "markdown",
   "metadata": {},
   "source": [
    "# Data Hiding"
   ]
  },
  {
   "cell_type": "code",
   "execution_count": 9,
   "metadata": {},
   "outputs": [
    {
     "name": "stdout",
     "output_type": "stream",
     "text": [
      "7\n",
      "7\n"
     ]
    }
   ],
   "source": [
    "class Spam:\n",
    "     \n",
    "        __egg=7 # strongly encapsuled\n",
    "        def print_egg(self):\n",
    "            \n",
    "            print(self.__egg)\n",
    "s=Spam()\n",
    "s.print_egg()\n",
    "print(s._Spam__egg) # accessing direct value from the class data"
   ]
  },
  {
   "cell_type": "code",
   "execution_count": 12,
   "metadata": {},
   "outputs": [
    {
     "name": "stdout",
     "output_type": "stream",
     "text": [
      "[8, 9, 10]\n",
      "[7, 8, 9, 10]\n",
      "[7, 8, 9]\n",
      "[7, 8, 9]\n"
     ]
    }
   ],
   "source": [
    "class Queue:\n",
    "    def __init__(self, contents):\n",
    "        \n",
    "        self._hiddenlist = list(contents)\n",
    "\n",
    "    def push(self, value):\n",
    "        \n",
    "        self._hiddenlist.insert(0, value)\n",
    "\n",
    "    def pop(self):\n",
    "        \n",
    "        return self._hiddenlist.pop(-1)\n",
    "\n",
    "    def _show_list(self):\n",
    "        \n",
    "        return self._hiddenlist\n",
    "\n",
    "\n",
    "queue = Queue([8,9,10])\n",
    "\n",
    "print(queue._hiddenlist)\n",
    "\n",
    "queue.push(7)\n",
    "\n",
    "print(queue._hiddenlist)\n",
    "\n",
    "queue.pop()\n",
    "print(queue._hiddenlist)\n",
    "\n",
    "print(queue._show_list())"
   ]
  },
  {
   "cell_type": "code",
   "execution_count": null,
   "metadata": {},
   "outputs": [],
   "source": []
  }
 ],
 "metadata": {
  "kernelspec": {
   "display_name": "Python 3",
   "language": "python",
   "name": "python3"
  },
  "language_info": {
   "codemirror_mode": {
    "name": "ipython",
    "version": 3
   },
   "file_extension": ".py",
   "mimetype": "text/x-python",
   "name": "python",
   "nbconvert_exporter": "python",
   "pygments_lexer": "ipython3",
   "version": "3.7.6"
  }
 },
 "nbformat": 4,
 "nbformat_minor": 4
}
