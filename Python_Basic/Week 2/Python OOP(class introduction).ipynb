{
 "cells": [
  {
   "cell_type": "markdown",
   "metadata": {},
   "source": [
    "# Class"
   ]
  },
  {
   "cell_type": "markdown",
   "metadata": {},
   "source": [
    "##Note##\n",
    "\n",
    "class কিওয়ার্ড ব্যবহার করে পাইথনে ক্লাস তৈরি করা হয়, একটি ক্লাসের মধ্যে বিভিন্ন মেথড(ফাংশন) এবং অ্যাট্রিবিউট (প্রপার্টি) থাকতে পারে যেগুলো পাইথনের নিয়ম অনুযায়ী ইন্ডেন্টেড ব্লকের মধ্যে থাকে।Examples"
   ]
  },
  {
   "cell_type": "code",
   "execution_count": 2,
   "metadata": {},
   "outputs": [
    {
     "name": "stdout",
     "output_type": "stream",
     "text": [
      "I am fogthing , i have 5 heads\n",
      "I am mournsnake, i am yellow\n",
      "Tangle face has 6 heads and he is 6\n"
     ]
    }
   ],
   "source": [
    "#creating blue prints or class for create monsters\n",
    "class monster:\n",
    "     def __init__(self,color,heads):\n",
    "         \n",
    "            self.color=color\n",
    "            self.heads=heads   \n",
    "#create some monsters\n",
    "\n",
    "fogthing=monster(\"black\",5)\n",
    "mournsnake=monster(\"yellow\",4)\n",
    "tangleface=monster(\"red\",6)\n",
    "\n",
    "#check each monsters for particular values\n",
    "\n",
    "print('I am fogthing , i have '+str(fogthing.heads)+' heads')\n",
    "print('I am mournsnake, i am '+str(mournsnake.color))\n",
    "print('Tangle face has '+str(tangleface.heads)+' heads and he is '+str(tangleface.color))\n",
    "        \n",
    "            "
   ]
  },
  {
   "cell_type": "markdown",
   "metadata": {},
   "source": [
    "#############Notes#################\n",
    "\n",
    "1.__init__ method\n",
    "\n",
    "\n",
    "   when an object or instance comes from any class this   __init__ methond is called automically.for every method first parameter should be \"self\"(not need to call it any object)\n",
    "\n",
    "2._Self\n",
    "\n",
    "উপরের উদাহরণ অনুযায়ী যখন fogthing = monster(\"nlack\", 5) লিখে fogthing নামের একটি অবজেক্ট তৈরি করা হচ্ছে। তখন কিন্তু __init__ কল হচ্ছে স্বয়ংক্রিয় ভাবে। আর এই __init__ মেথডের কাছে প্রথম আর্গুমেন্ট self হিসেবে চলে যাচ্ছে এই fogthing ইন্সট্যান্সটি। আর ওই মেথডের ডেফিনেশনের মধ্যে সেই self এর দুটো অ্যাট্রিবিউট color এবং heads কে সেট করা হচ্ছে (এর কাছে আসা দ্বিতীয় ও তৃতীয় আর্গুমেন্ট এর ভ্যালু নিয়ে)। তাহলে পক্ষান্তরে কিন্তু fogthing অবজেক্ট এর দুটো অ্যাট্রিবিউট সেট হয়ে গেলো অবজেক্ট তৈরির সাথে সাথেই।"
   ]
  },
  {
   "cell_type": "markdown",
   "metadata": {},
   "source": [
    "# Aother Example of class"
   ]
  },
  {
   "cell_type": "code",
   "execution_count": 6,
   "metadata": {},
   "outputs": [
    {
     "name": "stdout",
     "output_type": "stream",
     "text": [
      "Mournsnake has 6\n",
      "Attack the humans\n"
     ]
    }
   ],
   "source": [
    "class monster:\n",
    "     def __init__(self,color,heads):\n",
    "            self.color=color\n",
    "            self.heads=heads\n",
    "     \n",
    "     def attack(self): #customed  method for any monsters attivity\n",
    "\n",
    "            print(\"Attack the humans\")\n",
    "     \n",
    "     def save(self):\n",
    "            print(\"Save the humans\")\n",
    "            \n",
    "#it can an instance/object/monster-character           \n",
    "Mournsnake= monster(\"yellow\",6)\n",
    "\n",
    "# verify the new monster\n",
    "\n",
    "print(\"Mournsnake has \"+str(Mournsnake.heads))\n",
    "\n",
    "Mournsnake.attack()\n",
    "\n"
   ]
  },
  {
   "cell_type": "markdown",
   "metadata": {},
   "source": [
    "# Class attribute"
   ]
  },
  {
   "cell_type": "code",
   "execution_count": 11,
   "metadata": {},
   "outputs": [
    {
     "name": "stdout",
     "output_type": "stream",
     "text": [
      "I am a 4 headed The villain\n",
      "I am a 3 headed The villain\n",
      "The villain\n"
     ]
    }
   ],
   "source": [
    "class Monster:\n",
    "    identity = \"The villain\" #this can be accessed without any object creation\n",
    "\n",
    "    def __init__(self, color, heads):\n",
    "        self.color = color\n",
    "        self.heads = heads\n",
    "\n",
    "    def attack(self):\n",
    "        \n",
    "        \n",
    "        print(\"Just attacked a Hero\")\n",
    "\n",
    "\n",
    "mournsnake = Monster(\"Yellow\", 4)\n",
    "tangleface = Monster(\"Red\", 3)\n",
    "\n",
    "print('I am a ' + str(mournsnake.heads) + ' headed ' + mournsnake.identity)\n",
    "print('I am a ' + str(tangleface.heads) + ' headed ' + tangleface.identity)\n",
    "print(Monster.identity) # here the attribute is accessed with out any object creation "
   ]
  },
  {
   "cell_type": "markdown",
   "metadata": {},
   "source": [
    "# Important notes(copied from book)"
   ]
  },
  {
   "cell_type": "markdown",
   "metadata": {},
   "source": [
    "ক্লাস হচ্ছে ব্লুপ্রিন্ট যার উপর ভিত্তি করে মেমোরিতে ওই টাইপের কিছু অবজেক্ট তৈরি করা যায়। class কিওয়ার্ড ব্যবহার করে ক্লাস তৈরি করা হয়। ক্লাসের কিছু নিজস্ব অ্যাট্রিবিউট থাকে যাদেরকে ক্লাস অ্যাট্রিবিউট বলে। এদেরকে ক্লাস অথবা ইন্সট্যান্স দিয়ে অ্যাক্সেস করা যায়। এছাড়া ক্লাসের কিছু ইন্সট্যান্স অ্যাট্রিবিউট থাকতে পারে যেগুলোকে ইন্সট্যান্স এর অ্যাট্রিবিউট বলা হয় এবং ইন্সট্যানন্স এর মাধ্যমেই অ্যাক্সেস করা হয়। __init__ মেথড এর সাহায্যে যেকোনো ক্লাস থেকে অবজেক্ট তৈরির সময় ব্যাসিক কিছু কাজ করে নেয়া যায়। এছাড়া ক্লাসের অনেক কাস্টম মেথড থাকতে পারে যেগুলো পক্ষান্তরে ওই ক্লাস থেকে তৈরি অবজেক্ট গুলোরই মেথড হিসেবে ব্যবহার করা যায়।"
   ]
  },
  {
   "cell_type": "code",
   "execution_count": null,
   "metadata": {},
   "outputs": [],
   "source": []
  }
 ],
 "metadata": {
  "kernelspec": {
   "display_name": "Python 3",
   "language": "python",
   "name": "python3"
  },
  "language_info": {
   "codemirror_mode": {
    "name": "ipython",
    "version": 3
   },
   "file_extension": ".py",
   "mimetype": "text/x-python",
   "name": "python",
   "nbconvert_exporter": "python",
   "pygments_lexer": "ipython3",
   "version": "3.7.6"
  }
 },
 "nbformat": 4,
 "nbformat_minor": 4
}
