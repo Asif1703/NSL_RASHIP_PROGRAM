{
 "cells": [
  {
   "cell_type": "code",
   "execution_count": 1,
   "metadata": {},
   "outputs": [
    {
     "name": "stdout",
     "output_type": "stream",
     "text": [
      "The Zen of Python, by Tim Peters\n",
      "\n",
      "Beautiful is better than ugly.\n",
      "Explicit is better than implicit.\n",
      "Simple is better than complex.\n",
      "Complex is better than complicated.\n",
      "Flat is better than nested.\n",
      "Sparse is better than dense.\n",
      "Readability counts.\n",
      "Special cases aren't special enough to break the rules.\n",
      "Although practicality beats purity.\n",
      "Errors should never pass silently.\n",
      "Unless explicitly silenced.\n",
      "In the face of ambiguity, refuse the temptation to guess.\n",
      "There should be one-- and preferably only one --obvious way to do it.\n",
      "Although that way may not be obvious at first unless you're Dutch.\n",
      "Now is better than never.\n",
      "Although never is often better than *right* now.\n",
      "If the implementation is hard to explain, it's a bad idea.\n",
      "If the implementation is easy to explain, it may be a good idea.\n",
      "Namespaces are one honking great idea -- let's do more of those!\n"
     ]
    }
   ],
   "source": [
    "import this"
   ]
  },
  {
   "cell_type": "markdown",
   "metadata": {},
   "source": [
    "# PEP"
   ]
  },
  {
   "cell_type": "markdown",
   "metadata": {},
   "source": [
    "এর পূর্ণ অর্থ হচ্ছে, Python Enhancement Proposals অর্থাৎ অভিজ্ঞ পাইথন প্রোগ্রামারদের পক্ষ থেকে কিছু প্রস্তাবনা যা পাইথনকে আরও বেশি শক্তিশালী, গোছানো, ফিচারফুল এবং ইফিসিয়েন্ট করতে সাহায্য করে।\n",
    "যেমন, PEP 8 হচ্ছে রিডেবল পাইথন কোড লেখার ব্যাপারে একটি স্টাইল গাইড। এখানে বেশ কিছু গাইডলাইন আছে যেগুলো সব পাইথন প্রোগ্রামারের মেনে চলা উচিৎ। উদাহরণ সরূপঃ\n",
    "মডিউলের নাম হতে হবে সব ছোট হাতের অক্ষর দিয়ে এবং এর নাম ছোট হওয়া বাঞ্ছনীয়।   \n",
    "ক্লাস এর নাম হওয়া উচিৎ ক্যাপ-ওয়ার্ড তথা CapitalWords স্টাইলে   \n",
    "ভ্যারিয়েবল এবং ফাংশন এর নামও হওয়া উচিৎ ছোট হাতের অক্ষর দিয়ে এবং প্রয়োজনে আন্ডার স্কোর ব্যবহার করে, যেমন - my_function   \n",
    "কন্সট্যান্ট এর নাম হওয়া উচিৎ বড় হাতের অক্ষর দিয়ে   \n",
    "অপারেটর এর দু পাশে এবং প্রত্যেকটি কমা চিহ্নের পরে স্পেস ব্যবহার করা উচিৎ   \n",
    "কোন লাইক ৮০ ক্যারেক্টারের বেশি লম্বা হওয়া উচিৎ নয়   \n",
    "from module import * এরকম ইম্পোরট করা ঠিক নয়। নির্দিষ্ট করে শুধুমাত্র দরকারি ফাংশনকেই ইম্পোরট করা উচিৎ  \n",
    "ঈন্ডেন্টেশনের জন্য ট্যাবের বদলে স্পেস (যেমন ৪টি) ব্যবহার করা উচিৎ  "
   ]
  },
  {
   "cell_type": "markdown",
   "metadata": {},
   "source": [
    "# MAIN"
   ]
  },
  {
   "cell_type": "code",
   "execution_count": 5,
   "metadata": {},
   "outputs": [
    {
     "name": "stdout",
     "output_type": "stream",
     "text": [
      "Nuhil\n"
     ]
    }
   ],
   "source": [
    "def my_module_func():\n",
    "    print(\"Nuhil Mehdy\")\n",
    "\n",
    "if __name__ == \"__main__\":\n",
    "    print(\"Nuhil\")"
   ]
  },
  {
   "cell_type": "markdown",
   "metadata": {},
   "source": [
    "কিন্তু যদি এই Nuhil.py কে আরেকটি পাইথন ফাইল যেমন Mehdy.py এর মধ্যে মডিউল হিসেবে import করি তখন কিন্তু পাইথন এই Nuhil.py ফাইল পার্স (পড়ার সময়) করার সময় __name__ নামের ভ্যারিয়েবলের জন্য \"__main__\" ভ্যালু সেট করবে না। আর তাই if কন্ডিশনটা মিথ্যা হবে। তো, Mehdy.py এর কোড যদি হয় নিচের মত,"
   ]
  },
  {
   "cell_type": "markdown",
   "metadata": {},
   "source": [
    "# -*- coding: utf-8 -*-"
   ]
  },
  {
   "cell_type": "code",
   "execution_count": 9,
   "metadata": {},
   "outputs": [
    {
     "name": "stdout",
     "output_type": "stream",
     "text": [
      "নুহিল\n"
     ]
    }
   ],
   "source": [
    "name = \"নুহিল\"\n",
    "print(name)"
   ]
  },
  {
   "cell_type": "markdown",
   "metadata": {},
   "source": [
    "# ! /usr/bin/env python"
   ]
  },
  {
   "cell_type": "code",
   "execution_count": 10,
   "metadata": {},
   "outputs": [],
   "source": [
    "#! /usr/bin/python"
   ]
  },
  {
   "cell_type": "code",
   "execution_count": 11,
   "metadata": {},
   "outputs": [],
   "source": [
    "#! /usr/bin/env python3"
   ]
  },
  {
   "cell_type": "markdown",
   "metadata": {},
   "source": [
    "# About Documentation"
   ]
  },
  {
   "cell_type": "markdown",
   "metadata": {},
   "source": [
    "অনেকেই অফিসিয়াল ডকুমেন্টেশন থেকে বিভিন্ন ফাংশনের Signature পড়ার সময় বুঝে উঠতে পারে না আসলে এর প্যারামিটার গুলো কি। যেমন - round(number[, ndigits]) https://docs.python.org/3/library/functions.html#round"
   ]
  },
  {
   "cell_type": "code",
   "execution_count": null,
   "metadata": {},
   "outputs": [],
   "source": []
  }
 ],
 "metadata": {
  "kernelspec": {
   "display_name": "Python 3",
   "language": "python",
   "name": "python3"
  },
  "language_info": {
   "codemirror_mode": {
    "name": "ipython",
    "version": 3
   },
   "file_extension": ".py",
   "mimetype": "text/x-python",
   "name": "python",
   "nbconvert_exporter": "python",
   "pygments_lexer": "ipython3",
   "version": "3.7.6"
  }
 },
 "nbformat": 4,
 "nbformat_minor": 4
}
