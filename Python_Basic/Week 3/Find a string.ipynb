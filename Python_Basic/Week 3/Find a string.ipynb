{
 "cells": [
  {
   "cell_type": "code",
   "execution_count": null,
   "metadata": {},
   "outputs": [],
   "source": [
    "\n",
    "def count_substring(string, sub_string):\n",
    "    k=0\n",
    "    ls=len(string)\n",
    "    lsubs=len(sub_string)\n",
    "    for i in range(0, ls):\n",
    "      \n",
    "                     \n",
    "        if(string[i:(lsubs+i)]==sub_string):\n",
    "                     k+=1\n",
    "\n",
    "   \n",
    "    return k\n",
    "\n",
    "if __name__ == '__main__':\n",
    "    string = raw_input().strip()\n",
    "    sub_string = raw_input().strip()\n",
    "    \n",
    "    count = count_substring(string, sub_string)\n",
    "    print count"
   ]
  },
  {
   "cell_type": "code",
   "execution_count": null,
   "metadata": {},
   "outputs": [],
   "source": []
  },
  {
   "cell_type": "code",
   "execution_count": null,
   "metadata": {},
   "outputs": [],
   "source": []
  },
  {
   "cell_type": "code",
   "execution_count": null,
   "metadata": {},
   "outputs": [],
   "source": []
  },
  {
   "cell_type": "code",
   "execution_count": null,
   "metadata": {},
   "outputs": [],
   "source": []
  }
 ],
 "metadata": {
  "kernelspec": {
   "display_name": "Python 3",
   "language": "python",
   "name": "python3"
  },
  "language_info": {
   "codemirror_mode": {
    "name": "ipython",
    "version": 3
   },
   "file_extension": ".py",
   "mimetype": "text/x-python",
   "name": "python",
   "nbconvert_exporter": "python",
   "pygments_lexer": "ipython3",
   "version": "3.7.6"
  }
 },
 "nbformat": 4,
 "nbformat_minor": 4
}
